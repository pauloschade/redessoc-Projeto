{
 "cells": [
  {
   "cell_type": "code",
   "execution_count": null,
   "id": "a4e691c1",
   "metadata": {},
   "outputs": [],
   "source": [
    "import numpy as np\n",
    "import pandas as pd\n",
    "import matplotlib.pyplot as plt\n",
    "import seaborn as sns"
   ]
  },
  {
   "cell_type": "code",
   "execution_count": null,
   "id": "b06fdf4b",
   "metadata": {},
   "outputs": [],
   "source": [
    "dir_ = 'votacao/'\n",
    "\n",
    "file_name = 'camara_municipal_sp_sessoes_12_20.csv'\n",
    "\n",
    "file_dir = dir_ + file_name"
   ]
  },
  {
   "cell_type": "code",
   "execution_count": null,
   "id": "f54ee474",
   "metadata": {},
   "outputs": [],
   "source": [
    "df = pd.read_csv(file_dir)"
   ]
  }
 ],
 "metadata": {
  "kernelspec": {
   "display_name": "Python 3 (ipykernel)",
   "language": "python",
   "name": "python3"
  },
  "language_info": {
   "codemirror_mode": {
    "name": "ipython",
    "version": 3
   },
   "file_extension": ".py",
   "mimetype": "text/x-python",
   "name": "python",
   "nbconvert_exporter": "python",
   "pygments_lexer": "ipython3",
   "version": "3.10.6"
  }
 },
 "nbformat": 4,
 "nbformat_minor": 5
}
